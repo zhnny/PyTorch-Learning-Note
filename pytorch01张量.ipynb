{
 "cells": [
  {
   "cell_type": "markdown",
   "id": "714f0669-7e58-443c-8244-e6c94773aabe",
   "metadata": {},
   "source": [
    "# 1. 张量"
   ]
  },
  {
   "cell_type": "markdown",
   "id": "af039049-2f80-4b97-ab42-21e158fbae76",
   "metadata": {},
   "source": [
    "## 1.1. 概述"
   ]
  },
  {
   "cell_type": "markdown",
   "id": "b4a6a98d-273d-4be5-ae18-904b80262f89",
   "metadata": {},
   "source": [
    "张量（tensor）是pytorch中的一种较为基础的数据结构，类比于numpy中的ndarrays，在pytorch中，张量可以在GPU中进行运算"
   ]
  },
  {
   "cell_type": "markdown",
   "id": "b21b4689-24cd-4cce-919e-8b407489858c",
   "metadata": {},
   "source": [
    "通过以下命令，我们导入pytorch和numpy："
   ]
  },
  {
   "cell_type": "code",
   "execution_count": 1,
   "id": "202a8448-7f35-467d-974b-5e3c548e26aa",
   "metadata": {},
   "outputs": [],
   "source": [
    "import torch\n",
    "import numpy as np"
   ]
  },
  {
   "cell_type": "markdown",
   "id": "bb53f40f-ed85-4b73-b63d-d5c324845363",
   "metadata": {},
   "source": [
    "## 1.2. 张量初始化"
   ]
  },
  {
   "cell_type": "markdown",
   "id": "948b6fa9-3e00-4018-9a35-6c6fbbb9671b",
   "metadata": {},
   "source": [
    "### 1.2.1. 直接生成张量"
   ]
  },
  {
   "cell_type": "code",
   "execution_count": 2,
   "id": "04a02462-2dcf-4d87-ac98-d3b453992fdc",
   "metadata": {},
   "outputs": [],
   "source": [
    "data = [[1, 2], [3, 4]]\n",
    "x_data = torch.tensor(data)"
   ]
  },
  {
   "cell_type": "code",
   "execution_count": 3,
   "id": "4f906275-7d71-4fc0-a3b8-5a023a01447f",
   "metadata": {},
   "outputs": [
    {
     "data": {
      "text/plain": [
       "tensor([[1, 2],\n",
       "        [3, 4]])"
      ]
     },
     "execution_count": 3,
     "metadata": {},
     "output_type": "execute_result"
    }
   ],
   "source": [
    "x_data"
   ]
  },
  {
   "cell_type": "markdown",
   "id": "7c1f49e4-d61a-4774-b3cd-8e5dda64c377",
   "metadata": {},
   "source": [
    "### 1.2.2. ndarrays转化"
   ]
  },
  {
   "cell_type": "code",
   "execution_count": 4,
   "id": "41017c43-bdb6-40ea-83b2-ac00328ad31d",
   "metadata": {},
   "outputs": [],
   "source": [
    "np_array = np.array(data)\n",
    "x_np = torch.from_numpy(np_array)"
   ]
  },
  {
   "cell_type": "code",
   "execution_count": 5,
   "id": "d39ad2f3-55bb-4982-857a-5de3ebf8442f",
   "metadata": {},
   "outputs": [
    {
     "data": {
      "text/plain": [
       "tensor([[1, 2],\n",
       "        [3, 4]])"
      ]
     },
     "execution_count": 5,
     "metadata": {},
     "output_type": "execute_result"
    }
   ],
   "source": [
    "x_np"
   ]
  },
  {
   "cell_type": "markdown",
   "id": "35e3f6e6-46be-4f57-8512-c8ee7acff53e",
   "metadata": {},
   "source": [
    "### 1.2.3. 通过已有张量生成"
   ]
  },
  {
   "cell_type": "markdown",
   "id": "a2a94de1-d6f4-4207-b153-5659f8a54ed5",
   "metadata": {},
   "source": [
    "继承结构与数据类型："
   ]
  },
  {
   "cell_type": "code",
   "execution_count": 6,
   "id": "12c7dd6f-629d-435a-9753-a33cefc571a8",
   "metadata": {},
   "outputs": [],
   "source": [
    "x_ones = torch.ones_like(x_data)"
   ]
  },
  {
   "cell_type": "code",
   "execution_count": 7,
   "id": "2d3afc55-9258-4408-a154-6e46ffa15258",
   "metadata": {},
   "outputs": [
    {
     "data": {
      "text/plain": [
       "tensor([[1, 1],\n",
       "        [1, 1]])"
      ]
     },
     "execution_count": 7,
     "metadata": {},
     "output_type": "execute_result"
    }
   ],
   "source": [
    "x_ones"
   ]
  },
  {
   "cell_type": "markdown",
   "id": "e4ecd9c4-0e18-49f2-99f8-b6351ad45cde",
   "metadata": {},
   "source": [
    "继承结构，改变数据类型："
   ]
  },
  {
   "cell_type": "code",
   "execution_count": 8,
   "id": "217edaa9-295c-4f3a-8385-19246625b866",
   "metadata": {},
   "outputs": [],
   "source": [
    "x_rand = torch.rand_like(x_data, dtype=torch.float)"
   ]
  },
  {
   "cell_type": "code",
   "execution_count": 9,
   "id": "ce585254-a9bd-4993-96d8-ed293e1b534a",
   "metadata": {},
   "outputs": [
    {
     "data": {
      "text/plain": [
       "tensor([[0.9849, 0.3644],\n",
       "        [0.0800, 0.2939]])"
      ]
     },
     "execution_count": 9,
     "metadata": {},
     "output_type": "execute_result"
    }
   ],
   "source": [
    "x_rand"
   ]
  },
  {
   "cell_type": "markdown",
   "id": "cf2a76d7-99d1-4690-8065-7d86633b35d3",
   "metadata": {},
   "source": [
    "### 1.2.4. 指定维数生成张量"
   ]
  },
  {
   "cell_type": "markdown",
   "id": "29140030-6e14-4b57-8861-2feda56df266",
   "metadata": {},
   "source": [
    "用元组类型的数据指定维数："
   ]
  },
  {
   "cell_type": "code",
   "execution_count": 10,
   "id": "f6389f97-c4dc-40c6-842d-80bf0d00cd2c",
   "metadata": {},
   "outputs": [],
   "source": [
    "shape = (2, 3)"
   ]
  },
  {
   "cell_type": "markdown",
   "id": "ffbbc857-7afb-4a09-9cde-36c9d5c1444c",
   "metadata": {},
   "source": [
    "生成张量："
   ]
  },
  {
   "cell_type": "code",
   "execution_count": 11,
   "id": "d27a1131-6dca-4da6-97b9-3c59f7298b5c",
   "metadata": {},
   "outputs": [
    {
     "data": {
      "text/plain": [
       "tensor([[1., 1., 1.],\n",
       "        [1., 1., 1.]])"
      ]
     },
     "execution_count": 11,
     "metadata": {},
     "output_type": "execute_result"
    }
   ],
   "source": [
    "torch.ones(shape)"
   ]
  },
  {
   "cell_type": "code",
   "execution_count": 12,
   "id": "81ba83d0-e323-4e17-9d5f-d47a9bc5142c",
   "metadata": {},
   "outputs": [
    {
     "data": {
      "text/plain": [
       "tensor([[0., 0., 0.],\n",
       "        [0., 0., 0.]])"
      ]
     },
     "execution_count": 12,
     "metadata": {},
     "output_type": "execute_result"
    }
   ],
   "source": [
    "torch.zeros(shape)"
   ]
  },
  {
   "cell_type": "code",
   "execution_count": 13,
   "id": "8262fe0d-87da-4346-8ec4-55fece470968",
   "metadata": {},
   "outputs": [
    {
     "data": {
      "text/plain": [
       "tensor([[0.1744, 0.3771, 0.7969],\n",
       "        [0.7098, 0.9853, 0.3950]])"
      ]
     },
     "execution_count": 13,
     "metadata": {},
     "output_type": "execute_result"
    }
   ],
   "source": [
    "torch.rand(shape)"
   ]
  },
  {
   "cell_type": "markdown",
   "id": "1dbb017a-e508-4408-8be3-ef01b73751ee",
   "metadata": {},
   "source": [
    "## 1.3. 张量属性"
   ]
  },
  {
   "cell_type": "markdown",
   "id": "eb362c84-3990-4c6f-9ef9-ca6fe849abac",
   "metadata": {},
   "source": [
    "维数："
   ]
  },
  {
   "cell_type": "code",
   "execution_count": 14,
   "id": "e2b22d10-7f70-4099-80c3-c9b9b7c3e108",
   "metadata": {},
   "outputs": [
    {
     "data": {
      "text/plain": [
       "torch.Size([2, 2])"
      ]
     },
     "execution_count": 14,
     "metadata": {},
     "output_type": "execute_result"
    }
   ],
   "source": [
    "x_data.shape"
   ]
  },
  {
   "cell_type": "markdown",
   "id": "4796ba63-df71-4135-aeb0-1fc5fdec75f0",
   "metadata": {},
   "source": [
    "数据类型："
   ]
  },
  {
   "cell_type": "code",
   "execution_count": 15,
   "id": "21d523ee-6830-48e6-9c00-65a8142e26fe",
   "metadata": {},
   "outputs": [
    {
     "data": {
      "text/plain": [
       "torch.int64"
      ]
     },
     "execution_count": 15,
     "metadata": {},
     "output_type": "execute_result"
    }
   ],
   "source": [
    "x_data.dtype"
   ]
  },
  {
   "cell_type": "markdown",
   "id": "1ddfb4d3-06e3-4f07-b89e-ddee2b3a5e10",
   "metadata": {},
   "source": [
    "存储设备："
   ]
  },
  {
   "cell_type": "code",
   "execution_count": 16,
   "id": "e6f62f7e-882d-49a6-9d5f-a21d5502121e",
   "metadata": {},
   "outputs": [
    {
     "data": {
      "text/plain": [
       "device(type='cpu')"
      ]
     },
     "execution_count": 16,
     "metadata": {},
     "output_type": "execute_result"
    }
   ],
   "source": [
    "x_data.device"
   ]
  },
  {
   "cell_type": "markdown",
   "id": "124bdea9-f7e4-4d73-a619-0fa4d6c9ce1f",
   "metadata": {},
   "source": [
    "## 1.4. 张量计算"
   ]
  },
  {
   "cell_type": "markdown",
   "id": "a3acb2da-5ba6-476b-ab8d-52eae8cb8525",
   "metadata": {},
   "source": [
    "GPU对于张量的计算更快，检测GPU是否可用："
   ]
  },
  {
   "cell_type": "code",
   "execution_count": 17,
   "id": "6c2782a1-78a9-4bdc-9b1f-8cc9010069cb",
   "metadata": {},
   "outputs": [
    {
     "data": {
      "text/plain": [
       "False"
      ]
     },
     "execution_count": 17,
     "metadata": {},
     "output_type": "execute_result"
    }
   ],
   "source": [
    "torch.cuda.is_available()"
   ]
  },
  {
   "cell_type": "markdown",
   "id": "b5ff25f0-0b43-4ab1-b7fc-ff15448c713b",
   "metadata": {},
   "source": [
    "显然，对于笔者设备来说，由于没有显卡，GPU加速是不可用的，如果设备GPU可用，可以将CPU中的数据导入GPU："
   ]
  },
  {
   "cell_type": "code",
   "execution_count": 18,
   "id": "6dc927e7-0e78-4d9a-babc-0b10a3b143a6",
   "metadata": {},
   "outputs": [],
   "source": [
    "if torch.cuda.is_available():\n",
    "    tensor = x_data.to('cuda')"
   ]
  },
  {
   "cell_type": "markdown",
   "id": "14452330-44d9-49c9-a39d-048a4093812c",
   "metadata": {},
   "source": [
    "### 1.4.1. 索引和切片"
   ]
  },
  {
   "cell_type": "code",
   "execution_count": 19,
   "id": "328a7ed2-c714-43cc-915e-a80be59c1682",
   "metadata": {},
   "outputs": [],
   "source": [
    "tensor = torch.ones((3, 4))"
   ]
  },
  {
   "cell_type": "code",
   "execution_count": 20,
   "id": "002ddcf1-86b6-4f31-b5f5-3e487669b5b1",
   "metadata": {},
   "outputs": [
    {
     "data": {
      "text/plain": [
       "tensor([[1., 1., 1., 1.],\n",
       "        [1., 1., 1., 1.],\n",
       "        [1., 1., 1., 1.]])"
      ]
     },
     "execution_count": 20,
     "metadata": {},
     "output_type": "execute_result"
    }
   ],
   "source": [
    "tensor"
   ]
  },
  {
   "cell_type": "markdown",
   "id": "98935b0a-c772-4e6a-b46d-3edff42307bc",
   "metadata": {},
   "source": [
    "类比于ndarrays，tensor也可理解为是一个多维数组，以下表示将tensor变量的第一行、第一列变为0："
   ]
  },
  {
   "cell_type": "code",
   "execution_count": 21,
   "id": "1eeb43fc-f89c-4b33-ac1d-45ca8ce69574",
   "metadata": {},
   "outputs": [],
   "source": [
    "tensor[1, 1] = 0"
   ]
  },
  {
   "cell_type": "code",
   "execution_count": 22,
   "id": "3c5b4141-0358-45a4-bda9-cb1a9418f00a",
   "metadata": {},
   "outputs": [
    {
     "data": {
      "text/plain": [
       "tensor([[1., 1., 1., 1.],\n",
       "        [1., 0., 1., 1.],\n",
       "        [1., 1., 1., 1.]])"
      ]
     },
     "execution_count": 22,
     "metadata": {},
     "output_type": "execute_result"
    }
   ],
   "source": [
    "tensor"
   ]
  },
  {
   "cell_type": "markdown",
   "id": "239c608d-86f8-4f3b-ba01-60151e31288f",
   "metadata": {},
   "source": [
    "以下表示将tensor变量的第三列变为0："
   ]
  },
  {
   "cell_type": "code",
   "execution_count": 23,
   "id": "2e18a02a-1a52-4701-b352-2191a29ef6d7",
   "metadata": {},
   "outputs": [],
   "source": [
    "tensor[:, 3] = 0"
   ]
  },
  {
   "cell_type": "code",
   "execution_count": 24,
   "id": "ab091887-3ca0-4076-bcd4-273fd577dd74",
   "metadata": {},
   "outputs": [
    {
     "data": {
      "text/plain": [
       "tensor([[1., 1., 1., 0.],\n",
       "        [1., 0., 1., 0.],\n",
       "        [1., 1., 1., 0.]])"
      ]
     },
     "execution_count": 24,
     "metadata": {},
     "output_type": "execute_result"
    }
   ],
   "source": [
    "tensor"
   ]
  },
  {
   "cell_type": "markdown",
   "id": "475a0992-4492-4a1d-a668-c8cf3c19deb1",
   "metadata": {},
   "source": [
    "### 1.4.2. 张量的拼接"
   ]
  },
  {
   "cell_type": "code",
   "execution_count": 25,
   "id": "dfdd0b31-c090-4b6f-8094-ac7a95bef02a",
   "metadata": {},
   "outputs": [],
   "source": [
    "tensor1 = torch.ones((3, 4))\n",
    "tensor2 = torch.zeros((3, 4))"
   ]
  },
  {
   "cell_type": "markdown",
   "id": "49d7ee2a-3d7b-42dd-aac3-99a95cbf5803",
   "metadata": {},
   "source": [
    "使用torch.cat()方法，指定维数进行拼接:"
   ]
  },
  {
   "cell_type": "code",
   "execution_count": 26,
   "id": "a416bd5d-d0fb-4448-baef-ffad7fdc4e60",
   "metadata": {},
   "outputs": [
    {
     "data": {
      "text/plain": [
       "tensor([[1., 1., 1., 1., 0., 0., 0., 0.],\n",
       "        [1., 1., 1., 1., 0., 0., 0., 0.],\n",
       "        [1., 1., 1., 1., 0., 0., 0., 0.]])"
      ]
     },
     "execution_count": 26,
     "metadata": {},
     "output_type": "execute_result"
    }
   ],
   "source": [
    "torch.cat([tensor1, tensor2], dim=1)"
   ]
  },
  {
   "cell_type": "code",
   "execution_count": 27,
   "id": "4f75432a-e184-438e-b12a-e08c299fc2fd",
   "metadata": {},
   "outputs": [
    {
     "data": {
      "text/plain": [
       "tensor([[1., 1., 1., 1.],\n",
       "        [1., 1., 1., 1.],\n",
       "        [1., 1., 1., 1.],\n",
       "        [0., 0., 0., 0.],\n",
       "        [0., 0., 0., 0.],\n",
       "        [0., 0., 0., 0.]])"
      ]
     },
     "execution_count": 27,
     "metadata": {},
     "output_type": "execute_result"
    }
   ],
   "source": [
    "torch.cat([tensor1, tensor2], dim=0)"
   ]
  },
  {
   "cell_type": "code",
   "execution_count": 28,
   "id": "1c544611-4bc3-4124-851f-f33fb21d609a",
   "metadata": {},
   "outputs": [
    {
     "data": {
      "text/plain": [
       "tensor([[1., 1., 1., 1., 0., 0., 0., 0.],\n",
       "        [1., 1., 1., 1., 0., 0., 0., 0.],\n",
       "        [1., 1., 1., 1., 0., 0., 0., 0.]])"
      ]
     },
     "execution_count": 28,
     "metadata": {},
     "output_type": "execute_result"
    }
   ],
   "source": [
    "torch.cat([tensor1, tensor2], dim=-1)"
   ]
  },
  {
   "cell_type": "code",
   "execution_count": 29,
   "id": "197dbd08-4f70-4dcb-a884-af3ce533fe07",
   "metadata": {},
   "outputs": [
    {
     "data": {
      "text/plain": [
       "tensor([[1., 1., 1., 1.],\n",
       "        [1., 1., 1., 1.],\n",
       "        [1., 1., 1., 1.],\n",
       "        [0., 0., 0., 0.],\n",
       "        [0., 0., 0., 0.],\n",
       "        [0., 0., 0., 0.]])"
      ]
     },
     "execution_count": 29,
     "metadata": {},
     "output_type": "execute_result"
    }
   ],
   "source": [
    "torch.cat([tensor1, tensor2], dim=-2)"
   ]
  },
  {
   "cell_type": "code",
   "execution_count": 30,
   "id": "f853a05b-f17e-4c94-a462-8e672a293ba4",
   "metadata": {},
   "outputs": [
    {
     "data": {
      "text/plain": [
       "tensor([[1., 1., 1., 1.],\n",
       "        [1., 1., 1., 1.],\n",
       "        [1., 1., 1., 1.],\n",
       "        [0., 0., 0., 0.],\n",
       "        [0., 0., 0., 0.],\n",
       "        [0., 0., 0., 0.],\n",
       "        [1., 1., 1., 0.],\n",
       "        [1., 0., 1., 0.],\n",
       "        [1., 1., 1., 0.]])"
      ]
     },
     "execution_count": 30,
     "metadata": {},
     "output_type": "execute_result"
    }
   ],
   "source": [
    "torch.cat([tensor1, tensor2, tensor], dim=-2)"
   ]
  },
  {
   "cell_type": "markdown",
   "id": "cba60ab4-3fb3-4079-b33b-e55519730ddb",
   "metadata": {},
   "source": [
    "此处实验 dim = 2 时，有:"
   ]
  },
  {
   "cell_type": "code",
   "execution_count": 31,
   "id": "4550a5c4-451b-4871-821a-e42960a4188b",
   "metadata": {},
   "outputs": [
    {
     "ename": "IndexError",
     "evalue": "Dimension out of range (expected to be in range of [-2, 1], but got 2)",
     "output_type": "error",
     "traceback": [
      "\u001b[0;31m---------------------------------------------------------------------------\u001b[0m",
      "\u001b[0;31mIndexError\u001b[0m                                Traceback (most recent call last)",
      "\u001b[0;32m<ipython-input-31-dc57fe12e880>\u001b[0m in \u001b[0;36m<module>\u001b[0;34m\u001b[0m\n\u001b[0;32m----> 1\u001b[0;31m \u001b[0mtorch\u001b[0m\u001b[0;34m.\u001b[0m\u001b[0mcat\u001b[0m\u001b[0;34m(\u001b[0m\u001b[0;34m[\u001b[0m\u001b[0mtensor1\u001b[0m\u001b[0;34m,\u001b[0m \u001b[0mtensor2\u001b[0m\u001b[0;34m]\u001b[0m\u001b[0;34m,\u001b[0m \u001b[0mdim\u001b[0m\u001b[0;34m=\u001b[0m\u001b[0;36m2\u001b[0m\u001b[0;34m)\u001b[0m\u001b[0;34m\u001b[0m\u001b[0;34m\u001b[0m\u001b[0m\n\u001b[0m",
      "\u001b[0;31mIndexError\u001b[0m: Dimension out of range (expected to be in range of [-2, 1], but got 2)"
     ]
    }
   ],
   "source": [
    "torch.cat([tensor1, tensor2], dim=2)"
   ]
  },
  {
   "cell_type": "markdown",
   "id": "76e8912e-fed7-41a6-aa86-319502ebe8a4",
   "metadata": {},
   "source": [
    "根据[官网](https://pytorch.org/docs/stable/generated/torch.cat.html#torch.cat)示例，此处dim的取值主要是0和1："
   ]
  },
  {
   "cell_type": "markdown",
   "id": "8ad57095-46ee-4286-8d5d-66196d84a665",
   "metadata": {},
   "source": [
    "```PYTHON\n",
    "x = torch.randn(2, 3)\n",
    "torch.cat((x, x, x), 0)\n",
    "torch.cat((x, x, x), 1)\n",
    "```"
   ]
  },
  {
   "cell_type": "markdown",
   "id": "edff244e-b9b7-44aa-a16f-3c4eca6525fe",
   "metadata": {},
   "source": [
    "综上，dim的取值有 -2、-1、0、1，然而-2、-1与0、1的意思似乎是一样的"
   ]
  },
  {
   "cell_type": "markdown",
   "id": "c3c587b0-73e2-46e2-af81-e8c6b7659f78",
   "metadata": {},
   "source": [
    "### 1.4.3. 张量的乘积与矩阵乘法"
   ]
  },
  {
   "cell_type": "markdown",
   "id": "f367e47f-db02-405b-a109-09a26c4d3f57",
   "metadata": {},
   "source": [
    "逐个元素相乘："
   ]
  },
  {
   "cell_type": "code",
   "execution_count": 32,
   "id": "89237884-5379-4d5e-bdae-cc69fee66819",
   "metadata": {},
   "outputs": [
    {
     "data": {
      "text/plain": [
       "tensor([[1., 1., 1., 0.],\n",
       "        [1., 0., 1., 0.],\n",
       "        [1., 1., 1., 0.]])"
      ]
     },
     "execution_count": 32,
     "metadata": {},
     "output_type": "execute_result"
    }
   ],
   "source": [
    "tensor.mul(tensor)"
   ]
  },
  {
   "cell_type": "markdown",
   "id": "f4bbeece-4a88-439e-ae0b-60f86ae9f5aa",
   "metadata": {},
   "source": [
    "等价于："
   ]
  },
  {
   "cell_type": "code",
   "execution_count": 33,
   "id": "de2f21dc-8f1d-4b05-9166-7ab3a6bbc4dc",
   "metadata": {},
   "outputs": [
    {
     "data": {
      "text/plain": [
       "tensor([[1., 1., 1., 0.],\n",
       "        [1., 0., 1., 0.],\n",
       "        [1., 1., 1., 0.]])"
      ]
     },
     "execution_count": 33,
     "metadata": {},
     "output_type": "execute_result"
    }
   ],
   "source": [
    "tensor * tensor"
   ]
  },
  {
   "cell_type": "markdown",
   "id": "ce66092d-e635-4a01-be3a-4fe48012ff4b",
   "metadata": {},
   "source": [
    "张量与张量的矩阵乘法："
   ]
  },
  {
   "cell_type": "code",
   "execution_count": 34,
   "id": "6bc2b965-8180-47ae-a459-250e98d1a883",
   "metadata": {},
   "outputs": [
    {
     "data": {
      "text/plain": [
       "tensor([[3., 2., 3.],\n",
       "        [2., 2., 2.],\n",
       "        [3., 2., 3.]])"
      ]
     },
     "execution_count": 34,
     "metadata": {},
     "output_type": "execute_result"
    }
   ],
   "source": [
    "tensor.matmul(tensor.T)"
   ]
  },
  {
   "cell_type": "markdown",
   "id": "c0b69fdd-2898-4030-bc35-d45566824d71",
   "metadata": {},
   "source": [
    "等价于：\n"
   ]
  },
  {
   "cell_type": "code",
   "execution_count": 35,
   "id": "60ff7a15-7e48-4298-90e2-75f897ac067b",
   "metadata": {},
   "outputs": [
    {
     "data": {
      "text/plain": [
       "tensor([[3., 2., 3.],\n",
       "        [2., 2., 2.],\n",
       "        [3., 2., 3.]])"
      ]
     },
     "execution_count": 35,
     "metadata": {},
     "output_type": "execute_result"
    }
   ],
   "source": [
    "tensor @ tensor.T"
   ]
  },
  {
   "cell_type": "markdown",
   "id": "d1d73b89-950b-459f-bc7e-dddb52b1fe60",
   "metadata": {},
   "source": [
    "### 1.4.4. 自动赋值运算"
   ]
  },
  {
   "cell_type": "markdown",
   "id": "0d778045-2a48-44d2-a7db-105a6e12c23b",
   "metadata": {},
   "source": [
    "自增运算:"
   ]
  },
  {
   "cell_type": "code",
   "execution_count": 36,
   "id": "1835ab00-d421-4809-85ca-cbfd7274db14",
   "metadata": {},
   "outputs": [
    {
     "data": {
      "text/plain": [
       "tensor([[1., 1., 1., 0.],\n",
       "        [1., 0., 1., 0.],\n",
       "        [1., 1., 1., 0.]])"
      ]
     },
     "execution_count": 36,
     "metadata": {},
     "output_type": "execute_result"
    }
   ],
   "source": [
    "tensor"
   ]
  },
  {
   "cell_type": "code",
   "execution_count": 37,
   "id": "172e0eef-0a9b-4a68-bff9-57a85d7281ac",
   "metadata": {},
   "outputs": [
    {
     "data": {
      "text/plain": [
       "tensor([[6., 6., 6., 5.],\n",
       "        [6., 5., 6., 5.],\n",
       "        [6., 6., 6., 5.]])"
      ]
     },
     "execution_count": 37,
     "metadata": {},
     "output_type": "execute_result"
    }
   ],
   "source": [
    "tensor.add_(5)"
   ]
  },
  {
   "cell_type": "code",
   "execution_count": 38,
   "id": "8ccaad9d-a35e-4bd0-867e-cc3be12dba87",
   "metadata": {},
   "outputs": [
    {
     "data": {
      "text/plain": [
       "tensor([[6., 6., 6., 5.],\n",
       "        [6., 5., 6., 5.],\n",
       "        [6., 6., 6., 5.]])"
      ]
     },
     "execution_count": 38,
     "metadata": {},
     "output_type": "execute_result"
    }
   ],
   "source": [
    "tensor"
   ]
  },
  {
   "cell_type": "markdown",
   "id": "6e65005a-6e04-473a-8343-ae09e4023180",
   "metadata": {},
   "source": [
    "复制运算："
   ]
  },
  {
   "cell_type": "code",
   "execution_count": 39,
   "id": "4f362b8d-f2b0-43af-bdf7-d2b01ad00381",
   "metadata": {},
   "outputs": [
    {
     "data": {
      "text/plain": [
       "tensor([[1., 1., 1., 1.],\n",
       "        [1., 1., 1., 1.],\n",
       "        [1., 1., 1., 1.]])"
      ]
     },
     "execution_count": 39,
     "metadata": {},
     "output_type": "execute_result"
    }
   ],
   "source": [
    "tensor.copy_(tensor1)"
   ]
  },
  {
   "cell_type": "code",
   "execution_count": 40,
   "id": "27aad1f0-8a52-4602-95b6-63ded630052f",
   "metadata": {},
   "outputs": [
    {
     "data": {
      "text/plain": [
       "tensor([[1., 1., 1., 1.],\n",
       "        [1., 1., 1., 1.],\n",
       "        [1., 1., 1., 1.]])"
      ]
     },
     "execution_count": 40,
     "metadata": {},
     "output_type": "execute_result"
    }
   ],
   "source": [
    "tensor"
   ]
  },
  {
   "cell_type": "markdown",
   "id": "151f4550-bd41-4746-bf8f-0be0b1abdb6c",
   "metadata": {},
   "source": [
    "注意:**自动赋值运算可以节省内存，但是会导致一些中间过程的问题**"
   ]
  },
  {
   "cell_type": "markdown",
   "id": "9bedebc1-9cfc-4d64-bc3b-cd14f6f12414",
   "metadata": {},
   "source": [
    "## 1.5. Tensor与Numpy的转换"
   ]
  },
  {
   "cell_type": "markdown",
   "id": "f6d2751f-e374-41bb-a59c-4de685236eb8",
   "metadata": {},
   "source": [
    "### 1.5.1. Tensor转换为Numpy"
   ]
  },
  {
   "cell_type": "code",
   "execution_count": 41,
   "id": "3e34d3dd-bb26-4bd4-a7cb-6d7a2ee061c2",
   "metadata": {},
   "outputs": [
    {
     "data": {
      "text/plain": [
       "tensor([[1., 1., 1., 1.],\n",
       "        [1., 1., 1., 1.],\n",
       "        [1., 1., 1., 1.]])"
      ]
     },
     "execution_count": 41,
     "metadata": {},
     "output_type": "execute_result"
    }
   ],
   "source": [
    "tensor"
   ]
  },
  {
   "cell_type": "code",
   "execution_count": 42,
   "id": "d9e7df28-d8a0-4a1a-952a-9e4c2cb06722",
   "metadata": {},
   "outputs": [],
   "source": [
    "np_t = tensor.numpy()"
   ]
  },
  {
   "cell_type": "code",
   "execution_count": 43,
   "id": "470fee08-9768-40b1-befa-add072f4e651",
   "metadata": {},
   "outputs": [
    {
     "data": {
      "text/plain": [
       "array([[1., 1., 1., 1.],\n",
       "       [1., 1., 1., 1.],\n",
       "       [1., 1., 1., 1.]], dtype=float32)"
      ]
     },
     "execution_count": 43,
     "metadata": {},
     "output_type": "execute_result"
    }
   ],
   "source": [
    "np_t"
   ]
  },
  {
   "cell_type": "code",
   "execution_count": 44,
   "id": "689184af-d21d-4696-a990-7e8a9ba174a3",
   "metadata": {},
   "outputs": [
    {
     "data": {
      "text/plain": [
       "tensor([[6., 6., 6., 6.],\n",
       "        [6., 6., 6., 6.],\n",
       "        [6., 6., 6., 6.]])"
      ]
     },
     "execution_count": 44,
     "metadata": {},
     "output_type": "execute_result"
    }
   ],
   "source": [
    "tensor.add_(5)"
   ]
  },
  {
   "cell_type": "code",
   "execution_count": 45,
   "id": "93d20a8b-503f-4ed7-a98c-02d15b4aab81",
   "metadata": {},
   "outputs": [
    {
     "data": {
      "text/plain": [
       "array([[6., 6., 6., 6.],\n",
       "       [6., 6., 6., 6.],\n",
       "       [6., 6., 6., 6.]], dtype=float32)"
      ]
     },
     "execution_count": 45,
     "metadata": {},
     "output_type": "execute_result"
    }
   ],
   "source": [
    "np_t"
   ]
  },
  {
   "cell_type": "markdown",
   "id": "a2d3d42c-7c49-4c1c-aba1-a776380df76f",
   "metadata": {},
   "source": [
    "可见：Tensor和Numpy共用内存，一个改变时另一个也改变"
   ]
  },
  {
   "cell_type": "markdown",
   "id": "b1644306-4e9b-4741-ad6c-372b29b07870",
   "metadata": {},
   "source": [
    "### 1.5.2. Numpy转Tensor"
   ]
  },
  {
   "cell_type": "code",
   "execution_count": 46,
   "id": "43a577e8-ecb7-46cf-92fd-1c9c01766713",
   "metadata": {},
   "outputs": [
    {
     "data": {
      "text/plain": [
       "array([[6., 6., 6., 6.],\n",
       "       [6., 6., 6., 6.],\n",
       "       [6., 6., 6., 6.]], dtype=float32)"
      ]
     },
     "execution_count": 46,
     "metadata": {},
     "output_type": "execute_result"
    }
   ],
   "source": [
    "np_t"
   ]
  },
  {
   "cell_type": "code",
   "execution_count": 47,
   "id": "c7c8c431-d9cb-4410-a4e0-241fc62f48cb",
   "metadata": {},
   "outputs": [
    {
     "data": {
      "text/plain": [
       "tensor([[6., 6., 6., 6.],\n",
       "        [6., 6., 6., 6.],\n",
       "        [6., 6., 6., 6.]])"
      ]
     },
     "execution_count": 47,
     "metadata": {},
     "output_type": "execute_result"
    }
   ],
   "source": [
    "tensor"
   ]
  },
  {
   "cell_type": "code",
   "execution_count": 48,
   "id": "575412cb-dba6-4c88-8b20-b49498cba7d1",
   "metadata": {},
   "outputs": [],
   "source": [
    "t_np = torch.from_numpy(np_t)"
   ]
  },
  {
   "cell_type": "code",
   "execution_count": 49,
   "id": "1899a713-568a-4817-8ba5-4379f587a1d1",
   "metadata": {},
   "outputs": [
    {
     "data": {
      "text/plain": [
       "tensor([[6., 6., 6., 6.],\n",
       "        [6., 6., 6., 6.],\n",
       "        [6., 6., 6., 6.]])"
      ]
     },
     "execution_count": 49,
     "metadata": {},
     "output_type": "execute_result"
    }
   ],
   "source": [
    "t_np"
   ]
  },
  {
   "cell_type": "code",
   "execution_count": 50,
   "id": "f8af509a-6932-4e0c-89e2-9b71bfc90a87",
   "metadata": {},
   "outputs": [
    {
     "data": {
      "text/plain": [
       "array([[7., 7., 7., 7.],\n",
       "       [7., 7., 7., 7.],\n",
       "       [7., 7., 7., 7.]], dtype=float32)"
      ]
     },
     "execution_count": 50,
     "metadata": {},
     "output_type": "execute_result"
    }
   ],
   "source": [
    "np.add(np_t, 1, out=np_t)"
   ]
  },
  {
   "cell_type": "code",
   "execution_count": 51,
   "id": "27854e95-2938-41a3-8cf2-efd2bdf961ef",
   "metadata": {},
   "outputs": [
    {
     "data": {
      "text/plain": [
       "tensor([[7., 7., 7., 7.],\n",
       "        [7., 7., 7., 7.],\n",
       "        [7., 7., 7., 7.]])"
      ]
     },
     "execution_count": 51,
     "metadata": {},
     "output_type": "execute_result"
    }
   ],
   "source": [
    "t_np"
   ]
  },
  {
   "cell_type": "code",
   "execution_count": 52,
   "id": "3dfae35a-857c-4423-b260-6ce0091b5e99",
   "metadata": {},
   "outputs": [
    {
     "data": {
      "text/plain": [
       "array([[8., 8., 8., 8.],\n",
       "       [8., 8., 8., 8.],\n",
       "       [8., 8., 8., 8.]], dtype=float32)"
      ]
     },
     "execution_count": 52,
     "metadata": {},
     "output_type": "execute_result"
    }
   ],
   "source": [
    "np.add(np_t, 1)"
   ]
  },
  {
   "cell_type": "code",
   "execution_count": 53,
   "id": "a5780eab-8226-419e-8b7f-0d373d8afa9a",
   "metadata": {},
   "outputs": [
    {
     "data": {
      "text/plain": [
       "tensor([[7., 7., 7., 7.],\n",
       "        [7., 7., 7., 7.],\n",
       "        [7., 7., 7., 7.]])"
      ]
     },
     "execution_count": 53,
     "metadata": {},
     "output_type": "execute_result"
    }
   ],
   "source": [
    "t_np"
   ]
  },
  {
   "cell_type": "markdown",
   "id": "79cb4349-a0fa-4609-9f0e-a9f5b736b275",
   "metadata": {},
   "source": [
    "可见：np.add()指定out=时才会重新赋值"
   ]
  },
  {
   "cell_type": "markdown",
   "id": "fcecdde9-cc1d-4032-8b1d-3fcbfca8144e",
   "metadata": {},
   "source": [
    "## 1.6. 参考资料："
   ]
  },
  {
   "cell_type": "markdown",
   "id": "9742ac2c-036b-42d7-a8cd-ff27bdc4a300",
   "metadata": {},
   "source": [
    "1. [pytorch中文教程](https://pytorch.apachecn.org/#/docs/1.7/03)"
   ]
  }
 ],
 "metadata": {
  "kernelspec": {
   "display_name": "Python 3",
   "language": "python",
   "name": "python3"
  },
  "language_info": {
   "codemirror_mode": {
    "name": "ipython",
    "version": 3
   },
   "file_extension": ".py",
   "mimetype": "text/x-python",
   "name": "python",
   "nbconvert_exporter": "python",
   "pygments_lexer": "ipython3",
   "version": "3.6.13"
  },
  "toc-showcode": false,
  "toc-showmarkdowntxt": false,
  "toc-showtags": false
 },
 "nbformat": 4,
 "nbformat_minor": 5
}
