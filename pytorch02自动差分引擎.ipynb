{
 "cells": [
  {
   "cell_type": "markdown",
   "id": "ff1055c9-a597-41d7-b3b0-64bc7ef3a9a0",
   "metadata": {},
   "source": [
    "# 自动差分引擎"
   ]
  },
  {
   "cell_type": "markdown",
   "id": "08a89ba0-c011-4eb2-8717-633ea337bf93",
   "metadata": {},
   "source": [
    "torch.autograd是 PyTorch 的自动差分引擎，可为神经网络训练提供支持。"
   ]
  },
  {
   "cell_type": "markdown",
   "id": "5b8d8cf6-d122-450a-9886-0870eb863b78",
   "metadata": {},
   "source": [
    "## 1. 背景"
   ]
  },
  {
   "cell_type": "markdown",
   "id": "ed074168-26b1-4aab-86a6-db022d23cebf",
   "metadata": {},
   "source": [
    "神经网络（NN）是在某些输入数据上执行的嵌套函数的集合。 这些函数由参数（由权重和偏差组成）定义，这些参数在 PyTorch 中存储在张量中。\n",
    "\n",
    "训练 NN 分为两个步骤：\n",
    "\n",
    "正向传播：在正向传播中，NN 对正确的输出进行最佳猜测。 它通过其每个函数运行输入数据以进行猜测。\n",
    "\n",
    "反向传播：在反向传播中，NN 根据其猜测中的误差调整其参数。 它通过从输出向后遍历，收集有关函数参数（梯度）的误差导数并使用梯度下降来优化参数来实现。"
   ]
  },
  {
   "cell_type": "markdown",
   "id": "7904ba64-58ed-41f7-9a59-b66d4bd8a3a3",
   "metadata": {},
   "source": [
    "## 2. 在PyTorch中的用法"
   ]
  },
  {
   "cell_type": "markdown",
   "id": "523a9efc-2253-45e2-b19e-0b9e5386117c",
   "metadata": {},
   "source": [
    "从torchvision加载了经过预训练的 resnet18 模型。 我们创建一个随机数据张量来表示具有 3 个通道的单个图像，高度&宽度为 64，其对应的label初始化为一些随机值。"
   ]
  },
  {
   "cell_type": "code",
   "execution_count": 1,
   "id": "3393a245-f23f-4006-b4cf-f3bbfa9a2475",
   "metadata": {},
   "outputs": [],
   "source": [
    "import torch, torchvision\n",
    "model = torchvision.models.resnet18(pretrained=True)\n",
    "data = torch.rand(1, 3, 64, 64)\n",
    "labels = torch.rand(1, 1000)"
   ]
  },
  {
   "cell_type": "code",
   "execution_count": 2,
   "id": "131a706a-753b-41d0-a91e-b8e46c1ab5b2",
   "metadata": {},
   "outputs": [
    {
     "data": {
      "text/plain": [
       "tensor([[[[0.0421, 0.5498, 0.7633,  ..., 0.2027, 0.8481, 0.4255],\n",
       "          [0.0836, 0.1886, 0.6250,  ..., 0.7480, 0.9735, 0.9916],\n",
       "          [0.5927, 0.5473, 0.0020,  ..., 0.0484, 0.4672, 0.3397],\n",
       "          ...,\n",
       "          [0.0417, 0.1756, 0.4057,  ..., 0.6818, 0.5592, 0.0416],\n",
       "          [0.5929, 0.5567, 0.4616,  ..., 0.7430, 0.3945, 0.5043],\n",
       "          [0.0605, 0.1436, 0.4877,  ..., 0.3241, 0.3844, 0.1287]],\n",
       "\n",
       "         [[0.8837, 0.8610, 0.0051,  ..., 0.5536, 0.8028, 0.9089],\n",
       "          [0.2953, 0.7259, 0.1958,  ..., 0.4079, 0.2951, 0.0619],\n",
       "          [0.7267, 0.6365, 0.2589,  ..., 0.3394, 0.7242, 0.0889],\n",
       "          ...,\n",
       "          [0.8844, 0.3406, 0.3673,  ..., 0.5602, 0.8214, 0.5659],\n",
       "          [0.0224, 0.1693, 0.6389,  ..., 0.7752, 0.6179, 0.7025],\n",
       "          [0.0381, 0.5284, 0.7387,  ..., 0.0622, 0.8492, 0.6335]],\n",
       "\n",
       "         [[0.1731, 0.2461, 0.3651,  ..., 0.5243, 0.4385, 0.5899],\n",
       "          [0.8973, 0.8928, 0.1662,  ..., 0.8957, 0.8555, 0.4384],\n",
       "          [0.7018, 0.5639, 0.9140,  ..., 0.1942, 0.8108, 0.3777],\n",
       "          ...,\n",
       "          [0.5671, 0.1807, 0.6835,  ..., 0.5997, 0.3520, 0.7260],\n",
       "          [0.4286, 0.2101, 0.6863,  ..., 0.5068, 0.8704, 0.2469],\n",
       "          [0.6926, 0.3865, 0.5115,  ..., 0.7462, 0.6604, 0.4729]]]])"
      ]
     },
     "execution_count": 2,
     "metadata": {},
     "output_type": "execute_result"
    }
   ],
   "source": [
    "data"
   ]
  },
  {
   "cell_type": "markdown",
   "id": "b6d2e3a1-7dd8-4a65-95e0-08e9114ea156",
   "metadata": {},
   "source": [
    "接下来，我们通过模型的每一层运行输入数据以进行预测。 这是正向传播。"
   ]
  },
  {
   "cell_type": "code",
   "execution_count": 3,
   "id": "7417ffc6-4bc1-4a63-bee6-8030742ab1ac",
   "metadata": {},
   "outputs": [],
   "source": [
    "prediction = model(data) # forward pass"
   ]
  },
  {
   "cell_type": "markdown",
   "id": "d78af4f2-6c21-43c5-a7d4-cf6686d6bb97",
   "metadata": {},
   "source": [
    "我们使用模型的预测和相应的标签来计算误差（loss）。 下一步是通过网络反向传播此误差。 当我们在误差张量上调用.backward()时，开始反向传播。 然后，Autograd 会为每个模型参数计算梯度并将其存储在参数的.grad属性中。"
   ]
  },
  {
   "cell_type": "code",
   "execution_count": 4,
   "id": "4ecf998b-bff0-4138-b05b-2af9f8533765",
   "metadata": {},
   "outputs": [],
   "source": [
    "loss = (prediction - labels).sum()\n",
    "loss.backward() # backward pass"
   ]
  },
  {
   "cell_type": "markdown",
   "id": "4b205645-c7a5-4f70-85a2-04f228953f88",
   "metadata": {},
   "source": [
    "接下来，我们加载一个优化器，在本例中为 SGD，学习率为 0.01，动量为 0.9。 我们在优化器中注册模型的所有参数。"
   ]
  },
  {
   "cell_type": "code",
   "execution_count": 5,
   "id": "3c33d7b2-6ed3-4b36-8073-8445dbb15ad2",
   "metadata": {},
   "outputs": [],
   "source": [
    "optim = torch.optim.SGD(model.parameters(), lr=1e-2, momentum=0.9)"
   ]
  },
  {
   "cell_type": "markdown",
   "id": "eac87df9-c267-4581-bd14-2a359a6ad8a0",
   "metadata": {},
   "source": [
    "最后，我们调用.step()启动梯度下降。 优化器通过.grad中存储的梯度来调整每个参数。"
   ]
  },
  {
   "cell_type": "code",
   "execution_count": 6,
   "id": "2dc6b715-4234-4632-8b93-71a863db2341",
   "metadata": {},
   "outputs": [],
   "source": [
    "optim.step() #gradient descent"
   ]
  },
  {
   "cell_type": "code",
   "execution_count": 7,
   "id": "cf515f71-c3df-4dbe-a73a-415a5ff2eaf8",
   "metadata": {},
   "outputs": [
    {
     "data": {
      "text/plain": [
       "SGD (\n",
       "Parameter Group 0\n",
       "    dampening: 0\n",
       "    lr: 0.01\n",
       "    momentum: 0.9\n",
       "    nesterov: False\n",
       "    weight_decay: 0\n",
       ")"
      ]
     },
     "execution_count": 7,
     "metadata": {},
     "output_type": "execute_result"
    }
   ],
   "source": [
    "optim"
   ]
  },
  {
   "cell_type": "markdown",
   "id": "cefcd592-5a86-4e7f-9ec7-0c4635563669",
   "metadata": {},
   "source": [
    "## 3. autograd的微分"
   ]
  },
  {
   "cell_type": "markdown",
   "id": "4f43749a-0add-4656-9599-db0d64cf102e",
   "metadata": {},
   "source": [
    "我们用requires_grad=True创建两个张量a和b。 这向autograd发出信号，应跟踪对它们的所有操作。"
   ]
  },
  {
   "cell_type": "code",
   "execution_count": 8,
   "id": "140794b6-fa0f-4ff5-b9c5-ded91765f305",
   "metadata": {},
   "outputs": [],
   "source": [
    "import torch\n",
    "\n",
    "a = torch.tensor([2., 3.], requires_grad=True)\n",
    "b = torch.tensor([6., 4.], requires_grad=True)\n"
   ]
  },
  {
   "attachments": {
    "e20741fb-6147-45e9-ae76-633a937a26dc.png": {
     "image/png": "[encoded data removed]"
    }
   },
   "cell_type": "markdown",
   "id": "39f71424-cc6f-430c-835e-0fec5a7c5354",
   "metadata": {},
   "source": [
    "我们从a和b创建另一个张量Q。\n",
    "\n",
    "![image.png](attachment:e20741fb-6147-45e9-ae76-633a937a26dc.png)"
   ]
  },
  {
   "cell_type": "code",
   "execution_count": 9,
   "id": "e37bad31-7ecc-484a-bf7c-f866e5f578a8",
   "metadata": {},
   "outputs": [],
   "source": [
    "Q = 3*a**3 - b**2\n"
   ]
  },
  {
   "cell_type": "markdown",
   "id": "14cd3e36-fd5c-493a-9b25-f2f0b9f109c6",
   "metadata": {},
   "source": [
    "假设a和b是神经网络的参数，Q是误差。 在 NN 训练中，我们想要相对于参数的误差，即"
   ]
  },
  {
   "attachments": {
    "e699ee99-b865-4d50-818e-a84a9353cec6.png": {
     "image/png": "[encoded data removed]"
    }
   },
   "cell_type": "markdown",
   "id": "39152911-96d2-4bb7-8ccf-873425ec692f",
   "metadata": {},
   "source": [
    "![image.png](attachment:e699ee99-b865-4d50-818e-a84a9353cec6.png)"
   ]
  },
  {
   "attachments": {
    "9c942fad-aa12-46d0-80bf-0109f58dd776.png": {
     "image/png": "[encoded data removed]"
    }
   },
   "cell_type": "markdown",
   "id": "f1d24f1a-8cc3-4f47-9b25-ba58b8731b4b",
   "metadata": {},
   "source": [
    "![image.png](attachment:9c942fad-aa12-46d0-80bf-0109f58dd776.png)"
   ]
  },
  {
   "cell_type": "markdown",
   "id": "82df726c-8b35-4daa-99c7-9f4c57ddb400",
   "metadata": {},
   "source": [
    "当我们在Q上调用.backward()时，Autograd 将计算这些梯度并将其存储在各个张量的.grad属性中。"
   ]
  },
  {
   "cell_type": "markdown",
   "id": "dc5bdf14-c50d-4b4c-b546-7cf821807f05",
   "metadata": {},
   "source": [
    "我们需要在Q.backward()中显式传递gradient参数，因为它是向量。 gradient是与Q形状相同的张量，它表示Q相对于本身的梯度，即"
   ]
  },
  {
   "attachments": {
    "9a9ef448-d10f-4c83-8374-d72774b5503b.png": {
     "image/png": "[encoded data removed]"
    }
   },
   "cell_type": "markdown",
   "id": "068d1c3e-cc6a-4c2e-b7d9-a954048ad8e1",
   "metadata": {},
   "source": [
    "![image.png](attachment:9a9ef448-d10f-4c83-8374-d72774b5503b.png)"
   ]
  },
  {
   "cell_type": "markdown",
   "id": "e60acb8c-8f0b-4c6e-bd6a-b5c18c284d40",
   "metadata": {},
   "source": [
    "同样，我们也可以将Q聚合为一个标量，然后隐式地向后调用，例如Q.sum().backward()。"
   ]
  },
  {
   "cell_type": "code",
   "execution_count": 10,
   "id": "50f2e64b-04db-49d3-a6d7-a17b20394ce2",
   "metadata": {},
   "outputs": [],
   "source": [
    "external_grad = torch.tensor([1., 1.])\n",
    "Q.backward(gradient=external_grad)\n"
   ]
  },
  {
   "cell_type": "markdown",
   "id": "e038e2b9-b1b3-4b9c-87d9-4ed02cbc489a",
   "metadata": {},
   "source": [
    "梯度现在沉积在a.grad和b.grad中"
   ]
  },
  {
   "cell_type": "code",
   "execution_count": 11,
   "id": "85a73be6-ebda-4199-9a70-cc1d698342eb",
   "metadata": {},
   "outputs": [
    {
     "data": {
      "text/plain": [
       "tensor([36., 81.])"
      ]
     },
     "execution_count": 11,
     "metadata": {},
     "output_type": "execute_result"
    }
   ],
   "source": [
    "a.grad"
   ]
  },
  {
   "cell_type": "code",
   "execution_count": 12,
   "id": "2332422c-7439-464c-888d-09cd1fc9beb9",
   "metadata": {},
   "outputs": [
    {
     "data": {
      "text/plain": [
       "tensor([2., 3.], requires_grad=True)"
      ]
     },
     "execution_count": 12,
     "metadata": {},
     "output_type": "execute_result"
    }
   ],
   "source": [
    "a"
   ]
  },
  {
   "cell_type": "code",
   "execution_count": 13,
   "id": "f7c6532b-d5a2-45ac-858c-f2bdd363c590",
   "metadata": {},
   "outputs": [
    {
     "data": {
      "text/plain": [
       "tensor([36., 81.], grad_fn=<MulBackward0>)"
      ]
     },
     "execution_count": 13,
     "metadata": {},
     "output_type": "execute_result"
    }
   ],
   "source": [
    "9*a**2"
   ]
  },
  {
   "cell_type": "code",
   "execution_count": 14,
   "id": "b5a2ca8f-5330-4555-acc5-02a5bf912bfe",
   "metadata": {},
   "outputs": [
    {
     "name": "stdout",
     "output_type": "stream",
     "text": [
      "tensor([True, True])\n",
      "tensor([True, True])\n"
     ]
    }
   ],
   "source": [
    "# check if collected gradients are correct\n",
    "print(9*a**2 == a.grad)\n",
    "print(-2*b == b.grad)\n"
   ]
  }
 ],
 "metadata": {
  "kernelspec": {
   "display_name": "Python 3",
   "language": "python",
   "name": "python3"
  },
  "language_info": {
   "codemirror_mode": {
    "name": "ipython",
    "version": 3
   },
   "file_extension": ".py",
   "mimetype": "text/x-python",
   "name": "python",
   "nbconvert_exporter": "python",
   "pygments_lexer": "ipython3",
   "version": "3.6.13"
  }
 },
 "nbformat": 4,
 "nbformat_minor": 5
}
