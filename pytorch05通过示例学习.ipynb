{
 "cells": [
  {
   "cell_type": "markdown",
   "id": "3563561c-ed9c-428a-8270-6165dc27565b",
   "metadata": {},
   "source": [
    "# pytorch05通过示例学习"
   ]
  },
  {
   "cell_type": "markdown",
   "id": "c6dd6344-9d0b-4cfd-9af4-692e36fab329",
   "metadata": {},
   "source": [
    "## 1.概述"
   ]
  },
  {
   "cell_type": "markdown",
   "id": "5e283362-7689-4a16-b254-14dffc1887d5",
   "metadata": {},
   "source": [
    "PyTorch 的核心是提供两个主要功能：\n",
    "- n 维张量，类似于 NumPy，但可以在 GPU 上运行\n",
    "- 用于构建和训练神经网络的自动微分"
   ]
  },
  {
   "cell_type": "markdown",
   "id": "c58bac7f-757f-43c4-9e95-1db7c7574c78",
   "metadata": {},
   "source": [
    "我们将使用将三阶多项式拟合y = sin(x)的问题作为运行示例。 该网络将具有四个参数，并且将通过使网络输出与实际输出之间的欧几里德距离最小化来进行梯度下降训练，以适应随机数据"
   ]
  },
  {
   "cell_type": "markdown",
   "id": "462ebec0-29e9-409c-b7da-700ba661001c",
   "metadata": {},
   "source": [
    "## 2.Numpy"
   ]
  },
  {
   "cell_type": "markdown",
   "id": "b0401612-df54-4c43-9135-7fb78cbeb1a2",
   "metadata": {},
   "source": [
    "Numpy 提供了一个 n 维数组对象，以及许多用于操纵这些数组的函数。 Numpy 是用于科学计算的通用框架。 它对计算图，深度学习或梯度一无所知。 但是，通过使用 numpy 操作手动实现网络的前向和后向传递，我们可以轻松地使用 numpy 使三阶多项式适合正弦函数："
   ]
  },
  {
   "cell_type": "code",
   "execution_count": 1,
   "id": "957181f1-b589-4bef-96f2-754f3a592012",
   "metadata": {},
   "outputs": [
    {
     "name": "stdout",
     "output_type": "stream",
     "text": [
      "99 563.8291015751557\n",
      "199 375.83806540034493\n",
      "299 251.52341151625967\n",
      "399 169.31633903652465\n",
      "499 114.95407957727652\n",
      "599 79.00503300369046\n",
      "699 55.23231027939239\n",
      "799 39.51159649640557\n",
      "899 29.115566843371823\n",
      "999 22.2406918598557\n",
      "1099 17.694326952652982\n",
      "1199 14.687792949964951\n",
      "1299 12.699545397441945\n",
      "1399 11.384691566299782\n",
      "1499 10.51515596801245\n",
      "1599 9.940112958440231\n",
      "1699 9.559821495029546\n",
      "1799 9.30832244946974\n",
      "1899 9.14199655493815\n",
      "1999 9.031997888657425\n",
      "Result: y = 0.0008026128609173351 + 0.8425118975937722 x + -0.00013846407404389141 x^2 + -0.0913064454528145 x^3\n"
     ]
    }
   ],
   "source": [
    "# -*- coding: utf-8 -*-\n",
    "import numpy as np\n",
    "import math\n",
    "\n",
    "# Create random input and output data\n",
    "x = np.linspace(-math.pi, math.pi, 2000)\n",
    "y = np.sin(x)\n",
    "\n",
    "# Randomly initialize weights\n",
    "a = np.random.randn()\n",
    "b = np.random.randn()\n",
    "c = np.random.randn()\n",
    "d = np.random.randn()\n",
    "\n",
    "learning_rate = 1e-6\n",
    "for t in range(2000):\n",
    "    # Forward pass: compute predicted y\n",
    "    # y = a + b x + c x^2 + d x^3\n",
    "    y_pred = a + b * x + c * x ** 2 + d * x ** 3\n",
    "\n",
    "    # Compute and print loss\n",
    "    loss = np.square(y_pred - y).sum()\n",
    "    if t % 100 == 99:\n",
    "        print(t, loss)\n",
    "\n",
    "    # Backprop to compute gradients of a, b, c, d with respect to loss\n",
    "    grad_y_pred = 2.0 * (y_pred - y)\n",
    "    grad_a = grad_y_pred.sum()\n",
    "    grad_b = (grad_y_pred * x).sum()\n",
    "    grad_c = (grad_y_pred * x ** 2).sum()\n",
    "    grad_d = (grad_y_pred * x ** 3).sum()\n",
    "\n",
    "    # Update weights\n",
    "    a -= learning_rate * grad_a\n",
    "    b -= learning_rate * grad_b\n",
    "    c -= learning_rate * grad_c\n",
    "    d -= learning_rate * grad_d\n",
    "\n",
    "print(f'Result: y = {a} + {b} x + {c} x^2 + {d} x^3')\n"
   ]
  },
  {
   "cell_type": "markdown",
   "id": "cad47e30-42a5-4bb6-95e9-83b62d6c0b01",
   "metadata": {},
   "source": [
    "## 3. 张量"
   ]
  },
  {
   "cell_type": "markdown",
   "id": "c984c056-36dc-45a1-8437-5eaaac062e87",
   "metadata": {},
   "source": [
    "Numpy 是一个很棒的框架，但是它不能利用 GPU 来加速其数值计算。 对于现代深度神经网络，GPU 通常会提供 50 倍或更高的加速，因此遗憾的是，numpy 不足以实现现代深度学习"
   ]
  },
  {
   "cell_type": "markdown",
   "id": "ad5e13e1-0149-41b4-a52f-351870c4e701",
   "metadata": {},
   "source": [
    "在这里，我们介绍最基本的 PyTorch 概念：张量。 PyTorch 张量在概念上与 numpy 数组相同：张量是 n 维数组，PyTorch 提供了许多在这些张量上进行操作的函数。 在幕后，张量可以跟踪计算图和梯度，但它们也可用作科学计算的通用工具"
   ]
  },
  {
   "cell_type": "markdown",
   "id": "9329ea40-fed3-4f8c-b771-2ad1d6e06c00",
   "metadata": {},
   "source": [
    "与 numpy 不同，PyTorch 张量可以利用 GPU 加速其数字计算。 要在 GPU 上运行 PyTorch 张量，您只需要指定正确的设备即可"
   ]
  },
  {
   "cell_type": "markdown",
   "id": "8f54d960-cc9d-4d7b-92de-112af72d66e4",
   "metadata": {},
   "source": [
    "在这里，我们使用 PyTorch 张量将三阶多项式拟合为正弦函数。 像上面的 numpy 示例一样，我们需要手动实现通过网络的正向和反向传递："
   ]
  },
  {
   "cell_type": "code",
   "execution_count": 2,
   "id": "53a7df9f-0e79-4efe-8e56-d18175ea30a0",
   "metadata": {},
   "outputs": [
    {
     "name": "stdout",
     "output_type": "stream",
     "text": [
      "99 1039.5152587890625\n",
      "199 707.0489501953125\n",
      "299 482.3299560546875\n",
      "399 330.28277587890625\n",
      "499 227.29885864257812\n",
      "599 157.47219848632812\n",
      "699 110.07612609863281\n",
      "799 77.86994171142578\n",
      "899 55.96104431152344\n",
      "999 41.04032516479492\n",
      "1099 30.867229461669922\n",
      "1199 23.923267364501953\n",
      "1299 19.177928924560547\n",
      "1399 15.93132209777832\n",
      "1499 13.707606315612793\n",
      "1599 12.182741165161133\n",
      "1699 11.135905265808105\n",
      "1799 10.416431427001953\n",
      "1899 9.92137622833252\n",
      "1999 9.580371856689453\n",
      "Result: y = 0.023760870099067688 + 0.8410876393318176 x + -0.004099148791283369 x^2 + -0.09110385179519653 x^3\n"
     ]
    }
   ],
   "source": [
    "# -*- coding: utf-8 -*-\n",
    "\n",
    "import torch\n",
    "import math\n",
    "\n",
    "dtype = torch.float\n",
    "# device = torch.device(\"cpu\")\n",
    "device = torch.device(\"cuda:0\") # Uncomment this to run on GPU\n",
    "\n",
    "# Create random input and output data\n",
    "x = torch.linspace(-math.pi, math.pi, 2000, device=device, dtype=dtype)\n",
    "y = torch.sin(x)\n",
    "\n",
    "# Randomly initialize weights\n",
    "a = torch.randn((), device=device, dtype=dtype)\n",
    "b = torch.randn((), device=device, dtype=dtype)\n",
    "c = torch.randn((), device=device, dtype=dtype)\n",
    "d = torch.randn((), device=device, dtype=dtype)\n",
    "\n",
    "learning_rate = 1e-6\n",
    "for t in range(2000):\n",
    "    # Forward pass: compute predicted y\n",
    "    y_pred = a + b * x + c * x ** 2 + d * x ** 3\n",
    "\n",
    "    # Compute and print loss\n",
    "    loss = (y_pred - y).pow(2).sum().item()\n",
    "    if t % 100 == 99:\n",
    "        print(t, loss)\n",
    "\n",
    "    # Backprop to compute gradients of a, b, c, d with respect to loss\n",
    "    grad_y_pred = 2.0 * (y_pred - y)\n",
    "    grad_a = grad_y_pred.sum()\n",
    "    grad_b = (grad_y_pred * x).sum()\n",
    "    grad_c = (grad_y_pred * x ** 2).sum()\n",
    "    grad_d = (grad_y_pred * x ** 3).sum()\n",
    "\n",
    "    # Update weights using gradient descent\n",
    "    a -= learning_rate * grad_a\n",
    "    b -= learning_rate * grad_b\n",
    "    c -= learning_rate * grad_c\n",
    "    d -= learning_rate * grad_d\n",
    "\n",
    "print(f'Result: y = {a.item()} + {b.item()} x + {c.item()} x^2 + {d.item()} x^3')\n"
   ]
  },
  {
   "cell_type": "markdown",
   "id": "43294404-f43d-43de-b274-4edc38a90b0b",
   "metadata": {},
   "source": [
    "## 4.Autograd"
   ]
  },
  {
   "cell_type": "markdown",
   "id": "533118fa-a155-4d2d-995b-0f10dc96da5a",
   "metadata": {},
   "source": [
    "在上述示例中，我们必须手动实现神经网络的前向和后向传递。 对于小型的两层网络，手动实现反向传递并不是什么大问题，但是对于大型的复杂网络来说，可以很快变得非常麻烦"
   ]
  },
  {
   "cell_type": "markdown",
   "id": "e19a417e-8483-4198-8ce2-2cca08d50a37",
   "metadata": {},
   "source": [
    "幸运的是，我们可以使用自动微分来自动计算神经网络中的反向传递。 PyTorch 中的 Autograd 包正是提供了此功能。 使用 Autograd 时，网络的正向传播将定义计算图； 图中的节点为张量，边为从输入张量产生输出张量的函数。 然后通过该图进行反向传播，可以轻松计算梯度"
   ]
  },
  {
   "cell_type": "markdown",
   "id": "cc30e263-f0ed-49cb-81be-fcefff465303",
   "metadata": {},
   "source": [
    "这听起来很复杂，在实践中非常简单。 每个张量代表计算图中的一个节点。 如果x是具有x.requires_grad=True的张量，则x.grad是另一个张量，其保持x相对于某个标量值的梯度"
   ]
  },
  {
   "cell_type": "markdown",
   "id": "425324ac-c8e8-469a-8d17-73c714606a17",
   "metadata": {},
   "source": [
    "在这里，我们使用 PyTorch 张量和 Autograd 来实现我们的正弦函数与三阶多项式示例； 现在我们不再需要通过网络手动实现反向传递："
   ]
  },
  {
   "cell_type": "code",
   "execution_count": 3,
   "id": "769dadb0-d863-4eb4-a003-c9362cc60ea4",
   "metadata": {},
   "outputs": [
    {
     "name": "stdout",
     "output_type": "stream",
     "text": [
      "99 110.25205993652344\n",
      "199 78.43357849121094\n",
      "299 56.650428771972656\n",
      "399 41.72026824951172\n",
      "499 31.475496292114258\n",
      "599 24.437694549560547\n",
      "699 19.597450256347656\n",
      "799 16.264957427978516\n",
      "899 13.967991828918457\n",
      "999 12.38306999206543\n",
      "1099 11.288278579711914\n",
      "1199 10.531269073486328\n",
      "1299 10.007284164428711\n",
      "1399 9.644231796264648\n",
      "1499 9.39242935180664\n",
      "1599 9.21764087677002\n",
      "1699 9.096193313598633\n",
      "1799 9.011730194091797\n",
      "1899 8.952939987182617\n",
      "1999 8.911981582641602\n",
      "Result: y = -0.009276128374040127 + 0.8526148796081543 x + 0.0016002863412722945 x^2 + -0.09274350851774216 x^3\n"
     ]
    }
   ],
   "source": [
    "# -*- coding: utf-8 -*-\n",
    "import torch\n",
    "import math\n",
    "\n",
    "dtype = torch.float\n",
    "# device = torch.device(\"cpu\")\n",
    "device = torch.device(\"cuda:0\")  # Uncomment this to run on GPU\n",
    "\n",
    "# Create Tensors to hold input and outputs.\n",
    "# By default, requires_grad=False, which indicates that we do not need to\n",
    "# compute gradients with respect to these Tensors during the backward pass.\n",
    "x = torch.linspace(-math.pi, math.pi, 2000, device=device, dtype=dtype)\n",
    "y = torch.sin(x)\n",
    "\n",
    "# Create random Tensors for weights. For a third order polynomial, we need\n",
    "# 4 weights: y = a + b x + c x^2 + d x^3\n",
    "# Setting requires_grad=True indicates that we want to compute gradients with\n",
    "# respect to these Tensors during the backward pass.\n",
    "a = torch.randn((), device=device, dtype=dtype, requires_grad=True)\n",
    "b = torch.randn((), device=device, dtype=dtype, requires_grad=True)\n",
    "c = torch.randn((), device=device, dtype=dtype, requires_grad=True)\n",
    "d = torch.randn((), device=device, dtype=dtype, requires_grad=True)\n",
    "\n",
    "learning_rate = 1e-6\n",
    "for t in range(2000):\n",
    "    # Forward pass: compute predicted y using operations on Tensors.\n",
    "    y_pred = a + b * x + c * x ** 2 + d * x ** 3\n",
    "\n",
    "    # Compute and print loss using operations on Tensors.\n",
    "    # Now loss is a Tensor of shape (1,)\n",
    "    # loss.item() gets the scalar value held in the loss.\n",
    "    loss = (y_pred - y).pow(2).sum()\n",
    "    if t % 100 == 99:\n",
    "        print(t, loss.item())\n",
    "\n",
    "    # Use autograd to compute the backward pass. This call will compute the\n",
    "    # gradient of loss with respect to all Tensors with requires_grad=True.\n",
    "    # After this call a.grad, b.grad. c.grad and d.grad will be Tensors holding\n",
    "    # the gradient of the loss with respect to a, b, c, d respectively.\n",
    "    loss.backward()\n",
    "\n",
    "    # Manually update weights using gradient descent. Wrap in torch.no_grad()\n",
    "    # because weights have requires_grad=True, but we don't need to track this\n",
    "    # in autograd.\n",
    "    with torch.no_grad():\n",
    "        a -= learning_rate * a.grad\n",
    "        b -= learning_rate * b.grad\n",
    "        c -= learning_rate * c.grad\n",
    "        d -= learning_rate * d.grad\n",
    "\n",
    "        # Manually zero the gradients after updating weights\n",
    "        a.grad = None\n",
    "        b.grad = None\n",
    "        c.grad = None\n",
    "        d.grad = None\n",
    "\n",
    "print(f'Result: y = {a.item()} + {b.item()} x + {c.item()} x^2 + {d.item()} x^3')\n"
   ]
  },
  {
   "cell_type": "markdown",
   "id": "4c60a601-b16d-44e7-828f-fc8bf62af058",
   "metadata": {},
   "source": [
    "## 5.重新定义Autograd"
   ]
  },
  {
   "cell_type": "markdown",
   "id": "0b1bcd7a-e179-45f2-829f-a07f68b18fb4",
   "metadata": {},
   "source": [
    "在幕后，每个原始的 Autograd 运算符实际上都是在张量上运行的两个函数。 正向函数从输入张量计算输出张量。 反向函数接收相对于某个标量值的输出张量的梯度，并计算相对于相同标量值的输入张量的梯度"
   ]
  },
  {
   "cell_type": "markdown",
   "id": "97edd076-d788-4024-a5c2-7580ab113b2f",
   "metadata": {},
   "source": [
    "在 PyTorch 中，我们可以通过定义torch.autograd.Function的子类并实现forward和backward函数来轻松定义自己的 Autograd 运算符。 然后，我们可以通过构造实例并像调用函数一样调用新的 Autograd 运算符，并传递包含输入数据的张量"
   ]
  },
  {
   "cell_type": "markdown",
   "id": "f906e1ea-aec5-4d6d-8a98-79a4f101f752",
   "metadata": {},
   "source": [
    "在此示例中，我们将模型定义为y = a + b P[3](c + dx)而不是y = a + bx + cx ^ 2 + dx ^ 3，其中P[3](x) = 1/2 (5x ^ 3 - 3x)是三次的勒让德多项式。 我们编写了自己的自定义 Autograd 函数来计算P[3]的前进和后退，并使用它来实现我们的模型："
   ]
  },
  {
   "cell_type": "code",
   "execution_count": 4,
   "id": "f8f6c80b-3e22-488b-b6e1-3b7d5a3eae22",
   "metadata": {},
   "outputs": [
    {
     "name": "stdout",
     "output_type": "stream",
     "text": [
      "99 209.95834350585938\n",
      "199 144.66018676757812\n",
      "299 100.70249938964844\n",
      "399 71.03520202636719\n",
      "499 50.978515625\n",
      "599 37.40313720703125\n",
      "699 28.20686912536621\n",
      "799 21.973186492919922\n",
      "899 17.745729446411133\n",
      "999 14.877889633178711\n",
      "1099 12.931766510009766\n",
      "1199 11.610918998718262\n",
      "1299 10.714248657226562\n",
      "1399 10.105474472045898\n",
      "1499 9.692106246948242\n",
      "1599 9.411375045776367\n",
      "1699 9.220745086669922\n",
      "1799 9.091285705566406\n",
      "1899 9.003361701965332\n",
      "1999 8.943639755249023\n",
      "Result: y = -1.765793067320942e-11 + -2.208526849746704 * P3(9.924167737596079e-11 + 0.2554861009120941 x)\n"
     ]
    }
   ],
   "source": [
    "# -*- coding: utf-8 -*-\n",
    "import torch\n",
    "import math\n",
    "\n",
    "class LegendrePolynomial3(torch.autograd.Function):\n",
    "    \"\"\"\n",
    "    We can implement our own custom autograd Functions by subclassing\n",
    "    torch.autograd.Function and implementing the forward and backward passes\n",
    "    which operate on Tensors.\n",
    "    \"\"\"\n",
    "\n",
    "    @staticmethod\n",
    "    def forward(ctx, input):\n",
    "        \"\"\"\n",
    "        In the forward pass we receive a Tensor containing the input and return\n",
    "        a Tensor containing the output. ctx is a context object that can be used\n",
    "        to stash information for backward computation. You can cache arbitrary\n",
    "        objects for use in the backward pass using the ctx.save_for_backward method.\n",
    "        \"\"\"\n",
    "        ctx.save_for_backward(input)\n",
    "        return 0.5 * (5 * input ** 3 - 3 * input)\n",
    "\n",
    "    @staticmethod\n",
    "    def backward(ctx, grad_output):\n",
    "        \"\"\"\n",
    "        In the backward pass we receive a Tensor containing the gradient of the loss\n",
    "        with respect to the output, and we need to compute the gradient of the loss\n",
    "        with respect to the input.\n",
    "        \"\"\"\n",
    "        input, = ctx.saved_tensors\n",
    "        return grad_output * 1.5 * (5 * input ** 2 - 1)\n",
    "\n",
    "dtype = torch.float\n",
    "# device = torch.device(\"cpu\")\n",
    "device = torch.device(\"cuda:0\")  # Uncomment this to run on GPU\n",
    "\n",
    "# Create Tensors to hold input and outputs.\n",
    "# By default, requires_grad=False, which indicates that we do not need to\n",
    "# compute gradients with respect to these Tensors during the backward pass.\n",
    "x = torch.linspace(-math.pi, math.pi, 2000, device=device, dtype=dtype)\n",
    "y = torch.sin(x)\n",
    "\n",
    "# Create random Tensors for weights. For this example, we need\n",
    "# 4 weights: y = a + b * P3(c + d * x), these weights need to be initialized\n",
    "# not too far from the correct result to ensure convergence.\n",
    "# Setting requires_grad=True indicates that we want to compute gradients with\n",
    "# respect to these Tensors during the backward pass.\n",
    "a = torch.full((), 0.0, device=device, dtype=dtype, requires_grad=True)\n",
    "b = torch.full((), -1.0, device=device, dtype=dtype, requires_grad=True)\n",
    "c = torch.full((), 0.0, device=device, dtype=dtype, requires_grad=True)\n",
    "d = torch.full((), 0.3, device=device, dtype=dtype, requires_grad=True)\n",
    "\n",
    "learning_rate = 5e-6\n",
    "for t in range(2000):\n",
    "    # To apply our Function, we use Function.apply method. We alias this as 'P3'.\n",
    "    P3 = LegendrePolynomial3.apply\n",
    "\n",
    "    # Forward pass: compute predicted y using operations; we compute\n",
    "    # P3 using our custom autograd operation.\n",
    "    y_pred = a + b * P3(c + d * x)\n",
    "\n",
    "    # Compute and print loss\n",
    "    loss = (y_pred - y).pow(2).sum()\n",
    "    if t % 100 == 99:\n",
    "        print(t, loss.item())\n",
    "\n",
    "    # Use autograd to compute the backward pass.\n",
    "    loss.backward()\n",
    "\n",
    "    # Update weights using gradient descent\n",
    "    with torch.no_grad():\n",
    "        a -= learning_rate * a.grad\n",
    "        b -= learning_rate * b.grad\n",
    "        c -= learning_rate * c.grad\n",
    "        d -= learning_rate * d.grad\n",
    "\n",
    "        # Manually zero the gradients after updating weights\n",
    "        a.grad = None\n",
    "        b.grad = None\n",
    "        c.grad = None\n",
    "        d.grad = None\n",
    "\n",
    "print(f'Result: y = {a.item()} + {b.item()} * P3({c.item()} + {d.item()} x)')\n"
   ]
  },
  {
   "cell_type": "markdown",
   "id": "6cee5b10-6a2c-43ee-9960-0a314def3712",
   "metadata": {},
   "source": [
    "## 6.nn模块"
   ]
  },
  {
   "cell_type": "markdown",
   "id": "8038a630-1a71-4a5f-a304-cb5bf948af1c",
   "metadata": {},
   "source": [
    "计算图和 Autograd 是定义复杂运算符并自动采用导数的非常强大的范例。 但是对于大型神经网络，原始的 Autograd 可能会太低级"
   ]
  },
  {
   "cell_type": "markdown",
   "id": "b58e07bb-69ac-4513-a029-50bf7966593e",
   "metadata": {},
   "source": [
    "在构建神经网络时，我们经常想到将计算安排在层中，其中某些层具有可学习的参数，这些参数会在学习期间进行优化"
   ]
  },
  {
   "cell_type": "markdown",
   "id": "25599657-f1fa-4710-ad68-094ab9ad46ea",
   "metadata": {},
   "source": [
    "在 TensorFlow 中，像 Keras ， TensorFlow-Slim 和 TFLearn 之类的包在原始计算图上提供了更高层次的抽象，可用于构建神经网络"
   ]
  },
  {
   "cell_type": "markdown",
   "id": "bea4b1d2-fbe9-4c74-b3fb-ba67925f6bdf",
   "metadata": {},
   "source": [
    "在 PyTorch 中，nn包也达到了相同的目的。 nn包定义了一组模块，它们大致等效于神经网络层。 模块接收输入张量并计算输出张量，但也可以保持内部状态，例如包含可学习参数的张量。 nn包还定义了一组有用的损失函数，这些函数通常在训练神经网络时使用"
   ]
  },
  {
   "cell_type": "markdown",
   "id": "d484d744-2de2-470a-875a-8b7830c22e8c",
   "metadata": {},
   "source": [
    "在此示例中，我们使用nn包来实现我们的多项式模型网络："
   ]
  },
  {
   "cell_type": "code",
   "execution_count": 5,
   "id": "8524e2b2-e40e-4435-aaba-6bb827dbfb77",
   "metadata": {},
   "outputs": [
    {
     "name": "stdout",
     "output_type": "stream",
     "text": [
      "99 1616.1385498046875\n",
      "199 1081.325927734375\n",
      "299 724.8551635742188\n",
      "399 487.138671875\n",
      "499 328.5332946777344\n",
      "599 222.65386962890625\n",
      "699 151.9323272705078\n",
      "799 104.66616821289062\n",
      "899 73.05643463134766\n",
      "999 51.903411865234375\n",
      "1099 37.738162994384766\n",
      "1199 28.24566650390625\n",
      "1299 21.879676818847656\n",
      "1399 17.607154846191406\n",
      "1499 14.73743724822998\n",
      "1599 12.808303833007812\n",
      "1699 11.510335922241211\n",
      "1799 10.636259078979492\n",
      "1899 10.047100067138672\n",
      "1999 9.649618148803711\n",
      "Result: y = 0.018086636438965797 + 0.8341416120529175 x + -0.0031202451791614294 x^2 + -0.09011583775281906 x^3\n"
     ]
    }
   ],
   "source": [
    "# -*- coding: utf-8 -*-\n",
    "import torch\n",
    "import math\n",
    "\n",
    "# Create Tensors to hold input and outputs.\n",
    "x = torch.linspace(-math.pi, math.pi, 2000)\n",
    "y = torch.sin(x)\n",
    "\n",
    "# For this example, the output y is a linear function of (x, x^2, x^3), so\n",
    "# we can consider it as a linear layer neural network. Let's prepare the\n",
    "# tensor (x, x^2, x^3).\n",
    "p = torch.tensor([1, 2, 3])\n",
    "xx = x.unsqueeze(-1).pow(p)\n",
    "\n",
    "# In the above code, x.unsqueeze(-1) has shape (2000, 1), and p has shape\n",
    "# (3,), for this case, broadcasting semantics will apply to obtain a tensor\n",
    "# of shape (2000, 3) \n",
    "\n",
    "# Use the nn package to define our model as a sequence of layers. nn.Sequential\n",
    "# is a Module which contains other Modules, and applies them in sequence to\n",
    "# produce its output. The Linear Module computes output from input using a\n",
    "# linear function, and holds internal Tensors for its weight and bias.\n",
    "# The Flatten layer flatens the output of the linear layer to a 1D tensor,\n",
    "# to match the shape of `y`.\n",
    "model = torch.nn.Sequential(\n",
    "    torch.nn.Linear(3, 1),\n",
    "    torch.nn.Flatten(0, 1)\n",
    ")\n",
    "\n",
    "# The nn package also contains definitions of popular loss functions; in this\n",
    "# case we will use Mean Squared Error (MSE) as our loss function.\n",
    "loss_fn = torch.nn.MSELoss(reduction='sum')\n",
    "\n",
    "learning_rate = 1e-6\n",
    "for t in range(2000):\n",
    "\n",
    "    # Forward pass: compute predicted y by passing x to the model. Module objects\n",
    "    # override the __call__ operator so you can call them like functions. When\n",
    "    # doing so you pass a Tensor of input data to the Module and it produces\n",
    "    # a Tensor of output data.\n",
    "    y_pred = model(xx)\n",
    "\n",
    "    # Compute and print loss. We pass Tensors containing the predicted and true\n",
    "    # values of y, and the loss function returns a Tensor containing the\n",
    "    # loss.\n",
    "    loss = loss_fn(y_pred, y)\n",
    "    if t % 100 == 99:\n",
    "        print(t, loss.item())\n",
    "\n",
    "    # Zero the gradients before running the backward pass.\n",
    "    model.zero_grad()\n",
    "\n",
    "    # Backward pass: compute gradient of the loss with respect to all the learnable\n",
    "    # parameters of the model. Internally, the parameters of each Module are stored\n",
    "    # in Tensors with requires_grad=True, so this call will compute gradients for\n",
    "    # all learnable parameters in the model.\n",
    "    loss.backward()\n",
    "\n",
    "    # Update the weights using gradient descent. Each parameter is a Tensor, so\n",
    "    # we can access its gradients like we did before.\n",
    "    with torch.no_grad():\n",
    "        for param in model.parameters():\n",
    "            param -= learning_rate * param.grad\n",
    "\n",
    "# You can access the first layer of `model` like accessing the first item of a list\n",
    "linear_layer = model[0]\n",
    "\n",
    "# For linear layer, its parameters are stored as `weight` and `bias`.\n",
    "print(f'Result: y = {linear_layer.bias.item()} + {linear_layer.weight[:, 0].item()} x + {linear_layer.weight[:, 1].item()} x^2 + {linear_layer.weight[:, 2].item()} x^3')\n"
   ]
  },
  {
   "cell_type": "markdown",
   "id": "bb47db09-4956-4e34-99d3-814396668528",
   "metadata": {},
   "source": [
    "## 7.optim"
   ]
  },
  {
   "cell_type": "markdown",
   "id": "a7a7dedf-3f46-4567-8eff-c2283506d539",
   "metadata": {},
   "source": [
    "到目前为止，我们已经通过使用torch.no_grad()手动更改持有可学习参数的张量来更新模型的权重。 对于像随机梯度下降这样的简单优化算法来说，这并不是一个巨大的负担，但是在实践中，我们经常使用更复杂的优化器（例如 AdaGrad，RMSProp，Adam 等）来训练神经网络"
   ]
  },
  {
   "cell_type": "markdown",
   "id": "04bbf408-ad8b-4e57-86b6-0d02095d8e79",
   "metadata": {},
   "source": [
    "PyTorch 中的optim包抽象了优化算法的思想，并提供了常用优化算法的实现"
   ]
  },
  {
   "cell_type": "markdown",
   "id": "04c47ff6-dc96-424a-9fed-2c5e9c6f6e01",
   "metadata": {},
   "source": [
    "在此示例中，我们将使用nn包像以前一样定义我们的模型，但是我们将使用optim包提供的 RMSprop 算法来优化模型："
   ]
  },
  {
   "cell_type": "code",
   "execution_count": 6,
   "id": "17064ef3-6b25-4596-9f54-11df6ee30fbb",
   "metadata": {},
   "outputs": [
    {
     "name": "stdout",
     "output_type": "stream",
     "text": [
      "99 35157.9453125\n",
      "199 17403.95703125\n",
      "299 8047.3486328125\n",
      "399 3556.0693359375\n",
      "499 1893.0379638671875\n",
      "599 1428.3843994140625\n",
      "699 1216.1593017578125\n",
      "799 1016.4676513671875\n",
      "899 824.1697998046875\n",
      "999 651.5247192382812\n",
      "1099 504.0408935546875\n",
      "1199 381.1749267578125\n",
      "1299 279.7773742675781\n",
      "1399 197.03244018554688\n",
      "1499 131.4590301513672\n",
      "1599 81.9945068359375\n",
      "1699 47.25548553466797\n",
      "1799 25.561182022094727\n",
      "1899 14.26343822479248\n",
      "1999 9.908321380615234\n",
      "Result: y = -0.0006100632017478347 + 0.8261058926582336 x + -0.0006362820276990533 x^2 + -0.08855490386486053 x^3\n"
     ]
    }
   ],
   "source": [
    "# -*- coding: utf-8 -*-\n",
    "import torch\n",
    "import math\n",
    "\n",
    "# Create Tensors to hold input and outputs.\n",
    "x = torch.linspace(-math.pi, math.pi, 2000)\n",
    "y = torch.sin(x)\n",
    "\n",
    "# Prepare the input tensor (x, x^2, x^3).\n",
    "p = torch.tensor([1, 2, 3])\n",
    "xx = x.unsqueeze(-1).pow(p)\n",
    "\n",
    "# Use the nn package to define our model and loss function.\n",
    "model = torch.nn.Sequential(\n",
    "    torch.nn.Linear(3, 1),\n",
    "    torch.nn.Flatten(0, 1)\n",
    ")\n",
    "loss_fn = torch.nn.MSELoss(reduction='sum')\n",
    "\n",
    "# Use the optim package to define an Optimizer that will update the weights of\n",
    "# the model for us. Here we will use RMSprop; the optim package contains many other\n",
    "# optimization algorithms. The first argument to the RMSprop constructor tells the\n",
    "# optimizer which Tensors it should update.\n",
    "learning_rate = 1e-3\n",
    "optimizer = torch.optim.RMSprop(model.parameters(), lr=learning_rate)\n",
    "for t in range(2000):\n",
    "    # Forward pass: compute predicted y by passing x to the model.\n",
    "    y_pred = model(xx)\n",
    "\n",
    "    # Compute and print loss.\n",
    "    loss = loss_fn(y_pred, y)\n",
    "    if t % 100 == 99:\n",
    "        print(t, loss.item())\n",
    "\n",
    "    # Before the backward pass, use the optimizer object to zero all of the\n",
    "    # gradients for the variables it will update (which are the learnable\n",
    "    # weights of the model). This is because by default, gradients are\n",
    "    # accumulated in buffers( i.e, not overwritten) whenever .backward()\n",
    "    # is called. Checkout docs of torch.autograd.backward for more details.\n",
    "    optimizer.zero_grad()\n",
    "\n",
    "    # Backward pass: compute gradient of the loss with respect to model\n",
    "    # parameters\n",
    "    loss.backward()\n",
    "\n",
    "    # Calling the step function on an Optimizer makes an update to its\n",
    "    # parameters\n",
    "    optimizer.step()\n",
    "\n",
    "linear_layer = model[0]\n",
    "print(f'Result: y = {linear_layer.bias.item()} + {linear_layer.weight[:, 0].item()} x + {linear_layer.weight[:, 1].item()} x^2 + {linear_layer.weight[:, 2].item()} x^3')\n"
   ]
  },
  {
   "cell_type": "markdown",
   "id": "9f59bc4d-9c2d-4535-9f5d-29926881c303",
   "metadata": {},
   "source": [
    "## 8.自定义nn模块"
   ]
  },
  {
   "cell_type": "markdown",
   "id": "8d1c8f6f-b19d-4e57-ad40-a79f16c37e8a",
   "metadata": {},
   "source": [
    "有时，您将需要指定比一系列现有模块更复杂的模型。 对于这些情况，您可以通过子类化nn.Module并定义一个forward来定义自己的模块，该模块使用其他模块或在 Tensors 上的其他自动转换操作来接收输入 Tensors 并生成输出 Tensors"
   ]
  },
  {
   "cell_type": "markdown",
   "id": "fedc8294-18e7-47c9-b29f-fe99b2423636",
   "metadata": {},
   "source": [
    "在此示例中，我们将三阶多项式实现为自定义Module子类："
   ]
  },
  {
   "cell_type": "code",
   "execution_count": 7,
   "id": "c1e260b4-f3bf-46d1-a5fd-60c656d3093a",
   "metadata": {},
   "outputs": [
    {
     "name": "stdout",
     "output_type": "stream",
     "text": [
      "99 1308.099365234375\n",
      "199 910.4903564453125\n",
      "299 635.1412353515625\n",
      "399 444.26885986328125\n",
      "499 311.8292541503906\n",
      "599 219.847900390625\n",
      "699 155.90786743164062\n",
      "799 111.42127990722656\n",
      "899 80.44319152832031\n",
      "999 58.854122161865234\n",
      "1099 43.796546936035156\n",
      "1199 33.28647232055664\n",
      "1299 25.9451961517334\n",
      "1399 20.813724517822266\n",
      "1499 17.22447967529297\n",
      "1599 14.712332725524902\n",
      "1699 12.953007698059082\n",
      "1799 11.720170974731445\n",
      "1899 10.855795860290527\n",
      "1999 10.249417304992676\n",
      "Result: y = -0.037933703511953354 + 0.8685634732246399 x + 0.006544196978211403 x^2 + -0.09501205384731293 x^3\n"
     ]
    }
   ],
   "source": [
    "# -*- coding: utf-8 -*-\n",
    "import torch\n",
    "import math\n",
    "\n",
    "class Polynomial3(torch.nn.Module):\n",
    "    def __init__(self):\n",
    "        \"\"\"\n",
    "        In the constructor we instantiate four parameters and assign them as\n",
    "        member parameters.\n",
    "        \"\"\"\n",
    "        super().__init__()\n",
    "        self.a = torch.nn.Parameter(torch.randn(()))\n",
    "        self.b = torch.nn.Parameter(torch.randn(()))\n",
    "        self.c = torch.nn.Parameter(torch.randn(()))\n",
    "        self.d = torch.nn.Parameter(torch.randn(()))\n",
    "\n",
    "    def forward(self, x):\n",
    "        \"\"\"\n",
    "        In the forward function we accept a Tensor of input data and we must return\n",
    "        a Tensor of output data. We can use Modules defined in the constructor as\n",
    "        well as arbitrary operators on Tensors.\n",
    "        \"\"\"\n",
    "        return self.a + self.b * x + self.c * x ** 2 + self.d * x ** 3\n",
    "\n",
    "    def string(self):\n",
    "        \"\"\"\n",
    "        Just like any class in Python, you can also define custom method on PyTorch modules\n",
    "        \"\"\"\n",
    "        return f'y = {self.a.item()} + {self.b.item()} x + {self.c.item()} x^2 + {self.d.item()} x^3'\n",
    "\n",
    "# Create Tensors to hold input and outputs.\n",
    "x = torch.linspace(-math.pi, math.pi, 2000)\n",
    "y = torch.sin(x)\n",
    "\n",
    "# Construct our model by instantiating the class defined above\n",
    "model = Polynomial3()\n",
    "\n",
    "# Construct our loss function and an Optimizer. The call to model.parameters()\n",
    "# in the SGD constructor will contain the learnable parameters of the nn.Linear\n",
    "# module which is members of the model.\n",
    "criterion = torch.nn.MSELoss(reduction='sum')\n",
    "optimizer = torch.optim.SGD(model.parameters(), lr=1e-6)\n",
    "for t in range(2000):\n",
    "    # Forward pass: Compute predicted y by passing x to the model\n",
    "    y_pred = model(x)\n",
    "\n",
    "    # Compute and print loss\n",
    "    loss = criterion(y_pred, y)\n",
    "    if t % 100 == 99:\n",
    "        print(t, loss.item())\n",
    "\n",
    "    # Zero gradients, perform a backward pass, and update the weights.\n",
    "    optimizer.zero_grad()\n",
    "    loss.backward()\n",
    "    optimizer.step()\n",
    "\n",
    "print(f'Result: {model.string()}')\n"
   ]
  },
  {
   "cell_type": "markdown",
   "id": "affe5810-4b5e-42e7-8f6d-e20c079969ad",
   "metadata": {},
   "source": [
    "## 9.控制流与权重共享"
   ]
  },
  {
   "cell_type": "markdown",
   "id": "90cb6291-a919-4035-87ce-258dc4dd1ed4",
   "metadata": {},
   "source": [
    "作为动态图和权重共享的示例，我们实现了一个非常奇怪的模型：一个三阶多项式，在每个正向传播中选择 3 到 5 之间的一个随机数，并使用该阶数，多次使用相同的权重重复计算四和五阶"
   ]
  },
  {
   "cell_type": "markdown",
   "id": "1b01319e-2693-4174-9284-6e2458bfb4db",
   "metadata": {},
   "source": [
    "对于此模型，我们可以使用常规的 Python 流控制来实现循环，并且可以通过在定义正向传播时简单地多次重复使用相同的参数来实现权重共享"
   ]
  },
  {
   "cell_type": "markdown",
   "id": "e2ca0be3-a7a3-4d2e-b2aa-e6461139067c",
   "metadata": {},
   "source": [
    "我们可以轻松地将此模型实现为Module子类："
   ]
  },
  {
   "cell_type": "code",
   "execution_count": 8,
   "id": "5d21f008-ab35-40d5-afbd-c3448bcd62c3",
   "metadata": {},
   "outputs": [
    {
     "name": "stdout",
     "output_type": "stream",
     "text": [
      "1999 4006.545166015625\n",
      "3999 1704.7608642578125\n",
      "5999 790.6707763671875\n",
      "7999 356.1207275390625\n",
      "9999 161.2637481689453\n",
      "11999 74.07376098632812\n",
      "13999 38.51034164428711\n",
      "15999 21.840112686157227\n",
      "17999 14.520430564880371\n",
      "19999 11.310136795043945\n",
      "21999 9.908504486083984\n",
      "23999 9.299556732177734\n",
      "25999 8.865952491760254\n",
      "27999 8.918462753295898\n",
      "29999 8.871894836425781\n",
      "Result: y = 0.0011926052393391728 + 0.8512187004089355 x + -0.0006726108840666711 x^2 + -0.09276143461465836 x^3 + 0.00010200009273830801 x^4 ? + 0.00010200009273830801 x^5 ?\n"
     ]
    }
   ],
   "source": [
    "# -*- coding: utf-8 -*-\n",
    "import random\n",
    "import torch\n",
    "import math\n",
    "\n",
    "class DynamicNet(torch.nn.Module):\n",
    "    def __init__(self):\n",
    "        \"\"\"\n",
    "        In the constructor we instantiate five parameters and assign them as members.\n",
    "        \"\"\"\n",
    "        super().__init__()\n",
    "        self.a = torch.nn.Parameter(torch.randn(()))\n",
    "        self.b = torch.nn.Parameter(torch.randn(()))\n",
    "        self.c = torch.nn.Parameter(torch.randn(()))\n",
    "        self.d = torch.nn.Parameter(torch.randn(()))\n",
    "        self.e = torch.nn.Parameter(torch.randn(()))\n",
    "\n",
    "    def forward(self, x):\n",
    "        \"\"\"\n",
    "        For the forward pass of the model, we randomly choose either 4, 5\n",
    "        and reuse the e parameter to compute the contribution of these orders.\n",
    "\n",
    "        Since each forward pass builds a dynamic computation graph, we can use normal\n",
    "        Python control-flow operators like loops or conditional statements when\n",
    "        defining the forward pass of the model.\n",
    "\n",
    "        Here we also see that it is perfectly safe to reuse the same parameter many\n",
    "        times when defining a computational graph.\n",
    "        \"\"\"\n",
    "        y = self.a + self.b * x + self.c * x ** 2 + self.d * x ** 3\n",
    "        for exp in range(4, random.randint(4, 6)):\n",
    "            y = y + self.e * x ** exp\n",
    "        return y\n",
    "\n",
    "    def string(self):\n",
    "        \"\"\"\n",
    "        Just like any class in Python, you can also define custom method on PyTorch modules\n",
    "        \"\"\"\n",
    "        return f'y = {self.a.item()} + {self.b.item()} x + {self.c.item()} x^2 + {self.d.item()} x^3 + {self.e.item()} x^4 ? + {self.e.item()} x^5 ?'\n",
    "\n",
    "# Create Tensors to hold input and outputs.\n",
    "x = torch.linspace(-math.pi, math.pi, 2000)\n",
    "y = torch.sin(x)\n",
    "\n",
    "# Construct our model by instantiating the class defined above\n",
    "model = DynamicNet()\n",
    "\n",
    "# Construct our loss function and an Optimizer. Training this strange model with\n",
    "# vanilla stochastic gradient descent is tough, so we use momentum\n",
    "criterion = torch.nn.MSELoss(reduction='sum')\n",
    "optimizer = torch.optim.SGD(model.parameters(), lr=1e-8, momentum=0.9)\n",
    "for t in range(30000):\n",
    "    # Forward pass: Compute predicted y by passing x to the model\n",
    "    y_pred = model(x)\n",
    "\n",
    "    # Compute and print loss\n",
    "    loss = criterion(y_pred, y)\n",
    "    if t % 2000 == 1999:\n",
    "        print(t, loss.item())\n",
    "\n",
    "    # Zero gradients, perform a backward pass, and update the weights.\n",
    "    optimizer.zero_grad()\n",
    "    loss.backward()\n",
    "    optimizer.step()\n",
    "\n",
    "print(f'Result: {model.string()}')\n"
   ]
  },
  {
   "cell_type": "markdown",
   "id": "90dc280a-32af-4f16-b12f-ab097d15293f",
   "metadata": {},
   "source": [
    "## 10.参考资料"
   ]
  },
  {
   "cell_type": "markdown",
   "id": "3146998f-7d9a-42b9-8712-7f52d04b0afc",
   "metadata": {},
   "source": [
    "[1][通过示例学习 PyTorch](https://pytorch.apachecn.org/#/docs/1.7/07)\n",
    "\n",
    "[2][LEARNING PYTORCH WITH EXAMPLES](https://pytorch.org/tutorials/beginner/pytorch_with_examples.html)"
   ]
  }
 ],
 "metadata": {
  "kernelspec": {
   "display_name": "Python 3",
   "language": "python",
   "name": "python3"
  },
  "language_info": {
   "codemirror_mode": {
    "name": "ipython",
    "version": 3
   },
   "file_extension": ".py",
   "mimetype": "text/x-python",
   "name": "python",
   "nbconvert_exporter": "python",
   "pygments_lexer": "ipython3",
   "version": "3.6.3"
  }
 },
 "nbformat": 4,
 "nbformat_minor": 5
}
